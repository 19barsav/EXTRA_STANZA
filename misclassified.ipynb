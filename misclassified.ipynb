{
 "cells": [
  {
   "cell_type": "code",
   "id": "initial_id",
   "metadata": {
    "collapsed": true,
    "ExecuteTime": {
     "end_time": "2025-06-10T00:31:51.864526Z",
     "start_time": "2025-06-10T00:31:51.815248Z"
    }
   },
   "source": [
    "import json\n",
    "\n",
    "# Open and read the JSON file\n",
    "with open('a-aal-MOT-INV-BIL1-2017-07-05-anlc-comp.json', 'r', encoding='utf-8') as file:\n",
    "    data = json.load(file)"
   ],
   "outputs": [],
   "execution_count": 64
  },
  {
   "metadata": {
    "ExecuteTime": {
     "end_time": "2025-06-10T00:31:52.921478Z",
     "start_time": "2025-06-10T00:31:52.874628Z"
    }
   },
   "cell_type": "code",
   "source": [
    "with open('a-aal-MOT-INV-BIL1-2017-07-05-anlc-compEd-.json', 'r', encoding='utf-8') as file:\n",
    "    data2 = json.load(file)"
   ],
   "id": "c1ad84c2bee7b60d",
   "outputs": [],
   "execution_count": 65
  },
  {
   "metadata": {
    "ExecuteTime": {
     "end_time": "2025-06-10T00:31:53.695637Z",
     "start_time": "2025-06-10T00:31:53.688972Z"
    }
   },
   "cell_type": "code",
   "source": [
    "SINGULARS = (\"lo\", \"me\", \"te\", \"la\", \"le\", \"vos\")\n",
    "PLURALS = (\"los\", \"las\", \"les\", \"nos\")\n",
    "BOTH = SINGULARS + PLURALS"
   ],
   "id": "b0a8fec6d8d94c17",
   "outputs": [],
   "execution_count": 66
  },
  {
   "metadata": {
    "ExecuteTime": {
     "end_time": "2025-06-10T01:34:26.384776Z",
     "start_time": "2025-06-10T01:34:26.365631Z"
    }
   },
   "cell_type": "code",
   "source": [
    "ids_to_save = {}\n",
    "words_saved = []\n",
    "for info in data:\n",
    "    ID = info['id']\n",
    "    for sentences in info[\"sentences\"]:\n",
    "        for word in sentences:\n",
    "            if word['text'].endswith(BOTH) and word['text'] not in words_saved:\n",
    "                try:\n",
    "                    ids_to_save[ID] = {'word': word['text'], 'tag': word['upos']}\n",
    "                    words_saved.append(word['text'])\n",
    "                except KeyError:\n",
    "                    ids_to_save[ID] = {'word': word['text']}\n",
    "                    words_saved.append(word['text'])\n",
    "                    print(word)\n",
    "                    print(ID)\n",
    "\n",
    "\n",
    "\n",
    "print(ids_to_save)\n",
    "print(words_saved)"
   ],
   "id": "e104df2a933242a7",
   "outputs": [
    {
     "name": "stdout",
     "output_type": "stream",
     "text": [
      "{'id': [10, 11], 'text': 'traerlo', 'start_char': 45, 'end_char': 52}\n",
      "156\n",
      "{'id': [2, 3], 'text': 'terminarlo', 'start_char': 7, 'end_char': 17, 'misc': 'SpaceAfter=No'}\n",
      "188\n",
      "{'id': [3, 4], 'text': 'hacerlo', 'start_char': 45, 'end_char': 52, 'misc': 'SpaceAfter=No'}\n",
      "265\n",
      "{'id': [2, 3], 'text': 'darle', 'start_char': 6, 'end_char': 11}\n",
      "543\n",
      "{'id': [3, 4], 'text': 'buscarlo', 'start_char': 8, 'end_char': 16, 'misc': 'SpaceAfter=No'}\n",
      "677\n",
      "{24: {'word': 'cumple', 'tag': 'VERB'}, 28: {'word': 'vos', 'tag': 'PRON'}, 29: {'word': 'naciste', 'tag': 'VERB'}, 32: {'word': 'dijiste', 'tag': 'VERB'}, 34: {'word': 'este', 'tag': 'DET'}, 38: {'word': 'le', 'tag': 'PRON'}, 43: {'word': 'las', 'tag': 'DET'}, 45: {'word': 'menos', 'tag': 'ADV'}, 50: {'word': 'lo', 'tag': 'PRON'}, 55: {'word': 'la', 'tag': 'DET'}, 62: {'word': 'tranquilo', 'tag': 'ADJ'}, 64: {'word': 'los', 'tag': 'DET'}, 70: {'word': 'Buenos', 'tag': 'PROPN'}, 76: {'word': 'hermanos', 'tag': 'NOUN'}, 80: {'word': 'sólo', 'tag': 'ADV'}, 125: {'word': 'ella', 'tag': 'PRON'}, 137: {'word': 'gente', 'tag': 'NOUN'}, 140: {'word': 'normalmente', 'tag': 'ADV'}, 152: {'word': 'ellos', 'tag': 'PRON'}, 156: {'word': 'traerlo'}, 158: {'word': 'nos', 'tag': 'PRON'}, 188: {'word': 'terminarlo'}, 195: {'word': 'aparte', 'tag': 'ADV'}, 222: {'word': 'Casa_de_la', 'tag': 'DET'}, 240: {'word': 'hola', 'tag': 'NOUN'}, 241: {'word': 'juguete', 'tag': 'NOUN'}, 253: {'word': 'ponelo', 'tag': 'VERB'}, 257: {'word': 'tapalo', 'tag': 'NOUN'}, 264: {'word': 'hiciste', 'tag': 'VERB'}, 265: {'word': 'hacerlo'}, 296: {'word': 'llenaste', 'tag': 'VERB'}, 328: {'word': 'armala', 'tag': 'NOUN'}, 329: {'word': 'armame', 'tag': 'VERB'}, 352: {'word': 'chela', 'tag': 'PROPN'}, 414: {'word': 'mate', 'tag': 'NOUN'}, 461: {'word': 'pusiste', 'tag': 'VERB'}, 464: {'word': 'etete', 'tag': 'NOUN'}, 510: {'word': 'importante', 'tag': 'ADJ'}, 517: {'word': 'sentate', 'tag': 'NOUN'}, 519: {'word': 'arrodillate', 'tag': 'NOUN'}, 528: {'word': 'etetetete', 'tag': 'NOUN'}, 533: {'word': 'tetelatelate', 'tag': 'NOUN'}, 543: {'word': 'darle'}, 549: {'word': 'titete', 'tag': 'NOUN'}, 552: {'word': 'tete', 'tag': 'NOUN'}, 554: {'word': 'ale', 'tag': 'PROPN'}, 618: {'word': 'fuiste', 'tag': 'VERB'}, 622: {'word': 'escuchale', 'tag': 'VERB'}, 676: {'word': 'motalo', 'tag': 'PROPN'}, 677: {'word': 'buscarlo'}, 706: {'word': 'diste', 'tag': 'VERB'}, 717: {'word': 'valiente', 'tag': 'ADJ'}, 721: {'word': 'tite', 'tag': 'PROPN'}, 737: {'word': 'fijate', 'tag': 'NOUN'}, 764: {'word': 'atete', 'tag': 'NOUN'}, 775: {'word': 'tetete', 'tag': 'NOUN'}, 778: {'word': 'contame', 'tag': 'VERB'}, 792: {'word': 'nate', 'tag': 'PROPN'}, 838: {'word': 'zapatilla', 'tag': 'NOUN'}, 842: {'word': 'zapatiilla', 'tag': 'NOUN'}, 851: {'word': 'película', 'tag': 'NOUN'}, 855: {'word': 'viste', 'tag': 'VERB'}, 873: {'word': 'atatote', 'tag': 'NOUN'}, 884: {'word': 'bombilla', 'tag': 'NOUN'}, 895: {'word': 'ponete', 'tag': 'VERB'}, 898: {'word': 'dale', 'tag': 'VERB'}, 916: {'word': 'sola', 'tag': 'ADJ'}, 935: {'word': 'titate', 'tag': 'NOUN'}, 973: {'word': 'tomaste', 'tag': 'VERB'}, 996: {'word': 'dejale', 'tag': 'VERB'}}\n",
      "['cumple', 'vos', 'naciste', 'me', 'dijiste', 'este', 'le', 'las', 'menos', 'lo', 'la', 'tranquilo', 'te', 'los', 'Buenos', 'hermanos', 'sólo', 'ella', 'gente', 'normalmente', 'ellos', 'consiste', 'traerlo', 'nos', 'terminarlo', 'aparte', 'Casa_de_la', 'hola', 'juguete', 'ponelo', 'tapalo', 'hiciste', 'hacerlo', 'llenaste', 'armala', 'armame', 'chela', 'mate', 'pusiste', 'etete', 'importante', 'sentate', 'arrodillate', 'etetetete', 'tetelatelate', 'darle', 'titete', 'tete', 'ale', 'fuiste', 'escuchale', 'motalo', 'buscarlo', 'diste', 'valiente', 'tite', 'fijate', 'atete', 'tetete', 'contame', 'nate', 'zapatilla', 'zapatiilla', 'película', 'viste', 'atatote', 'bombilla', 'ponete', 'dale', 'sola', 'titate', 'tomaste', 'dejale']\n"
     ]
    }
   ],
   "execution_count": 107
  },
  {
   "metadata": {
    "ExecuteTime": {
     "end_time": "2025-06-10T01:42:43.826483Z",
     "start_time": "2025-06-10T01:42:43.810728Z"
    }
   },
   "cell_type": "code",
   "source": [
    "ALL_words = []\n",
    "ALL_tags = []\n",
    "\n",
    "for info in data2:\n",
    "    ID = info['id']\n",
    "    sent = info[\"text\"]\n",
    "    if ID not in ids_to_save.keys():\n",
    "        continue\n",
    "\n",
    "    for sentences in info[\"sentences\"]:\n",
    "        for word in sentences:\n",
    "            looking_for = ids_to_save[ID]['word']\n",
    "\n",
    "            if word['text'].endswith(BOTH) and word['text'] == ids_to_save[ID]['word']:\n",
    "\n",
    "                ALL_words.append(word['text'])\n",
    "                if type(word['id']) != list:\n",
    "                    if word['upos'] == ids_to_save[ID]['tag']:\n",
    "                        sent = None\n",
    "                    if 'tag' in ids_to_save[ID]:\n",
    "                        ALL_tags.append((ids_to_save[ID]['tag'], word['upos'], ID, None, sent))\n",
    "                    else:\n",
    "                        ALL_tags.append((None, word['upos'], ID, None, sent))\n",
    "                elif type(word['id']) == list:\n",
    "                    split_upos = ''\n",
    "                    split_words = ''\n",
    "                    for id in word['id']:\n",
    "                        for word2 in sentences:\n",
    "                            if id == word2['id']:\n",
    "                                split_upos += word2['upos'] + \", \"\n",
    "                                split_words += word2['text'] + \", \"\n",
    "                        split_upos = split_upos[:-1]\n",
    "                        split_words = split_words[:-1]\n",
    "                    if 'tag' in ids_to_save[ID]:\n",
    "                        ALL_tags.append((ids_to_save[ID]['tag'], split_upos, ID, split_words, sent))\n",
    "                    else:\n",
    "                        ALL_tags.append((None, split_upos, ID, split_words, sent))\n",
    "\n",
    "pairings = (list(set(zip(ALL_words, ALL_tags))))\n"
   ],
   "id": "ac05686e89cb0cdc",
   "outputs": [],
   "execution_count": 112
  },
  {
   "metadata": {
    "ExecuteTime": {
     "end_time": "2025-06-10T01:42:45.693757Z",
     "start_time": "2025-06-10T01:42:45.679996Z"
    }
   },
   "cell_type": "code",
   "source": [
    "import csv\n",
    "with open(\"output_pairings.csv\", mode=\"w\", newline=\"\", encoding='utf-8') as file:\n",
    "    writer = csv.writer(file)\n",
    "    writer.writerow(['words', \"OG\", \"Edited\", \"SentID\", \"Split Words\", \"Sentence\"])\n",
    "    for x, (a, b, c, d, e) in pairings:\n",
    "        writer.writerow([x, a, b, c, d, e])\n"
   ],
   "id": "36d0f3f9153852b6",
   "outputs": [],
   "execution_count": 113
  }
 ],
 "metadata": {
  "kernelspec": {
   "display_name": "Python 3",
   "language": "python",
   "name": "python3"
  },
  "language_info": {
   "codemirror_mode": {
    "name": "ipython",
    "version": 2
   },
   "file_extension": ".py",
   "mimetype": "text/x-python",
   "name": "python",
   "nbconvert_exporter": "python",
   "pygments_lexer": "ipython2",
   "version": "2.7.6"
  }
 },
 "nbformat": 4,
 "nbformat_minor": 5
}
